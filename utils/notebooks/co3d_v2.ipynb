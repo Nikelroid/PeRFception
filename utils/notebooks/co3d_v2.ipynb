{
 "cells": [
  {
   "cell_type": "code",
   "execution_count": 1,
   "metadata": {},
   "outputs": [],
   "source": [
    "import os\n",
    "import json"
   ]
  },
  {
   "cell_type": "code",
   "execution_count": 5,
   "metadata": {},
   "outputs": [],
   "source": [
    "data_path = \"../../data/co3d_v2/\"\n",
    "json_path = os.path.join(\n",
    "    data_path,\n",
    "    \"category_to_subset_name_list_singlesequence.json\"\n",
    ")\n",
    "\n",
    "with open(json_path) as fp:\n",
    "    json_file = json.load(fp)"
   ]
  },
  {
   "cell_type": "code",
   "execution_count": 12,
   "metadata": {},
   "outputs": [],
   "source": [
    "scene_list = []\n",
    "\n",
    "for cls_name in json_file.keys():\n",
    "    if len(json_file[cls_name]) == 0:\n",
    "        continue\n",
    "    cls_path = os.path.join(data_path, cls_name)\n",
    "    set_lists_path = os.path.join(cls_path, \"set_lists\")\n",
    "    for set_lists_file in os.listdir(set_lists_path):\n",
    "        set_lists_file = os.path.join(set_lists_path, set_lists_file)\n",
    "        if \"dev\" in set_lists_file:\n",
    "            with open(set_lists_file) as fp: \n",
    "                dev_file = json.load(fp)\n",
    "            scene_list.append(dev_file[\"train\"][0][0])"
   ]
  },
  {
   "cell_type": "code",
   "execution_count": 25,
   "metadata": {},
   "outputs": [],
   "source": [
    "co3d_v1_path = os.path.join(\"/home/yoonwoo/data/perfception/perfception_co3d\")\n",
    "shared_scenes = []\n",
    "for scene in scene_list:\n",
    "    scene_dir = int(scene.split(\"_\")[-1]) % 100\n",
    "    scene_path = os.path.join(\n",
    "        co3d_v1_path, \n",
    "        str(scene_dir),\n",
    "        f\"plenoxel_co3d_{scene}\"\n",
    "    )\n",
    "    if os.path.exists(scene_path):\n",
    "        shared_scenes.append(scene)"
   ]
  },
  {
   "cell_type": "code",
   "execution_count": 26,
   "metadata": {},
   "outputs": [
    {
     "name": "stdout",
     "output_type": "stream",
     "text": [
      "- 110_13051_23361\n",
      "- 189_20393_38136\n",
      "- 375_42693_85518\n",
      "- 123_14363_28981\n",
      "- 415_57112_110099\n",
      "- 119_13962_28926\n",
      "- 247_26469_51778\n",
      "- 69_5465_12831\n",
      "- 412_56288_108844\n",
      "- 372_41112_81867\n",
      "- 403_53094_103680\n",
      "- 374_42274_84517\n",
      "- 403_52964_103416\n",
      "- 391_47032_93657\n",
      "- 411_56064_108483\n",
      "- 167_18184_34441\n",
      "- 377_43416_86289\n",
      "- 374_42196_84367\n",
      "- 385_45386_90752\n",
      "- 374_42005_84358\n",
      "- 195_20989_41543\n",
      "- 350_36761_68623\n",
      "- 366_39266_76077\n",
      "- 245_26182_52130\n",
      "- 410_55734_107452\n",
      "- 50_2928_8645\n",
      "- 187_20215_38541\n",
      "- 34_1479_4753\n",
      "- 416_57389_110765\n",
      "- 372_41229_82130\n",
      "- 399_51323_100753\n",
      "- 240_25394_51994\n",
      "- 346_36113_66551\n",
      "- 190_20494_39385\n",
      "- 380_44863_89631\n",
      "- 374_41862_83720\n"
     ]
    }
   ],
   "source": [
    "for scene in shared_scenes:\n",
    "    print(f\"- {scene}\")"
   ]
  },
  {
   "cell_type": "code",
   "execution_count": null,
   "metadata": {},
   "outputs": [],
   "source": []
  }
 ],
 "metadata": {
  "kernelspec": {
   "display_name": "Python 3.8.13 ('perfception')",
   "language": "python",
   "name": "python3"
  },
  "language_info": {
   "codemirror_mode": {
    "name": "ipython",
    "version": 3
   },
   "file_extension": ".py",
   "mimetype": "text/x-python",
   "name": "python",
   "nbconvert_exporter": "python",
   "pygments_lexer": "ipython3",
   "version": "3.8.13"
  },
  "orig_nbformat": 4,
  "vscode": {
   "interpreter": {
    "hash": "b471587bbe11c509fa4c273e3c27dad8d0f74f51357e50e66bf733daf1d8a5fb"
   }
  }
 },
 "nbformat": 4,
 "nbformat_minor": 2
}
