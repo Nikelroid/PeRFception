{
 "cells": [
  {
   "cell_type": "code",
   "execution_count": 1,
   "metadata": {},
   "outputs": [],
   "source": [
    "import os\n",
    "import json"
   ]
  },
  {
   "cell_type": "code",
   "execution_count": 5,
   "metadata": {},
   "outputs": [],
   "source": [
    "data_path = \"../../data/co3d_v2/\"\n",
    "json_path = os.path.join(\n",
    "    data_path,\n",
    "    \"category_to_subset_name_list_singlesequence.json\"\n",
    ")\n",
    "\n",
    "with open(json_path) as fp:\n",
    "    json_file = json.load(fp)"
   ]
  },
  {
   "cell_type": "code",
   "execution_count": 12,
   "metadata": {},
   "outputs": [],
   "source": [
    "scene_list = []\n",
    "\n",
    "for cls_name in json_file.keys():\n",
    "    if len(json_file[cls_name]) == 0:\n",
    "        continue\n",
    "    cls_path = os.path.join(data_path, cls_name)\n",
    "    set_lists_path = os.path.join(cls_path, \"set_lists\")\n",
    "    for set_lists_file in os.listdir(set_lists_path):\n",
    "        set_lists_file = os.path.join(set_lists_path, set_lists_file)\n",
    "        if \"dev\" in set_lists_file:\n",
    "            with open(set_lists_file) as fp: \n",
    "                dev_file = json.load(fp)\n",
    "            scene_list.append(dev_file[\"train\"][0][0])"
   ]
  },
  {
   "cell_type": "code",
   "execution_count": 18,
   "metadata": {},
   "outputs": [
    {
     "name": "stdout",
     "output_type": "stream",
     "text": [
      "40 40\n"
     ]
    }
   ],
   "source": [
    "co3d_v1_path = os.path.join(\"/home/yoonwoo/perfception/perfception_co3d\")\n",
    "missing = []\n",
    "for scene in scene_list:\n",
    "    scene_path = os.path.join(co3d_v1_path, f\"plenoxel_co3d_{scene}\")\n",
    "    if not os.path.exists(scene_path):\n",
    "        missing.append(scene)\n",
    "print(len(missing), len(scene_list))"
   ]
  },
  {
   "cell_type": "code",
   "execution_count": null,
   "metadata": {},
   "outputs": [],
   "source": []
  }
 ],
 "metadata": {
  "kernelspec": {
   "display_name": "Python 3.8.13 ('perfception')",
   "language": "python",
   "name": "python3"
  },
  "language_info": {
   "codemirror_mode": {
    "name": "ipython",
    "version": 3
   },
   "file_extension": ".py",
   "mimetype": "text/x-python",
   "name": "python",
   "nbconvert_exporter": "python",
   "pygments_lexer": "ipython3",
   "version": "3.8.13"
  },
  "orig_nbformat": 4,
  "vscode": {
   "interpreter": {
    "hash": "b471587bbe11c509fa4c273e3c27dad8d0f74f51357e50e66bf733daf1d8a5fb"
   }
  }
 },
 "nbformat": 4,
 "nbformat_minor": 2
}
